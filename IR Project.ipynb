{
 "cells": [
  {
   "cell_type": "code",
   "execution_count": 50,
   "id": "51e1cb8e",
   "metadata": {},
   "outputs": [],
   "source": [
    "import pyterrier as pt\n",
    "from pyterrier.measures import *\n",
    "if not pt.started():\n",
    "  pt.init()"
   ]
  },
  {
   "cell_type": "code",
   "execution_count": 27,
   "id": "b86833d5",
   "metadata": {},
   "outputs": [],
   "source": [
    "index_path = \"E:/index\"\n",
    "indexref = pt.IndexRef.of(index_path)"
   ]
  },
  {
   "cell_type": "code",
   "execution_count": 28,
   "id": "f3407d60",
   "metadata": {},
   "outputs": [
    {
     "name": "stdout",
     "output_type": "stream",
     "text": [
      "Number of documents: 3213835\n",
      "Number of terms: 16168096\n",
      "Number of postings: 905088837\n",
      "Number of fields: 0\n",
      "Number of tokens: 2204592607\n",
      "Field names: []\n",
      "Positions:   true\n",
      "\n"
     ]
    }
   ],
   "source": [
    "index = pt.IndexFactory.of(indexref)\n",
    "print(index.getCollectionStatistics().toString())"
   ]
  },
  {
   "cell_type": "code",
   "execution_count": 112,
   "id": "cd74054d",
   "metadata": {},
   "outputs": [
    {
     "name": "stdout",
     "output_type": "stream",
     "text": [
      "13:24:44.894 [main] WARN org.terrier.applications.batchquerying.TRECQuery - trec.encoding is not set; resorting to platform default (windows-1252). Retrieval may be platform dependent. Recommend trec.encoding=UTF-8\r\n"
     ]
    }
   ],
   "source": [
    "topics_path = \"E:/topics.msmarco-doc.test.txt\"\n",
    "qrels_path = \"E:/2019qrels-docs.txt\"\n",
    "\n",
    "qrels = pt.io.read_qrels(qrels_path)\n",
    "topics = pt.io.read_topics(topics_path,format=\"singleline\")"
   ]
  },
  {
   "cell_type": "code",
   "execution_count": 113,
   "id": "cb1ccdea",
   "metadata": {},
   "outputs": [],
   "source": [
    "BM25_br = pt.BatchRetrieve(index, wmodel=\"BM25\")\n",
    "res = BM25_br.transform(topics)"
   ]
  },
  {
   "cell_type": "code",
   "execution_count": 114,
   "id": "e669f4fa",
   "metadata": {
    "scrolled": true
   },
   "outputs": [
    {
     "name": "stdout",
     "output_type": "stream",
     "text": [
      "             qid    docid     docno  rank       score  \\\n",
      "630043   1124335  1898702   D330043   999   -0.015792   \n",
      "630042   1124335  1204457  D3165598   998   -0.015748   \n",
      "630041   1124335   205442  D1222024   997   -0.015714   \n",
      "630039   1124335   176508   D255921   995   -0.015710   \n",
      "630040   1124335  2326967  D3218250   996   -0.015710   \n",
      "...          ...      ...       ...   ...         ...   \n",
      "14002     975821  3201650     D1113     2  101.707623   \n",
      "14001     975821  1254670     D1112     1  101.996935   \n",
      "5092429   992595  1273431  D3549096     0  103.486367   \n",
      "14000     975821  1115079     D1115     0  105.921686   \n",
      "2501786   455425   831991  D3380531     0  133.053255   \n",
      "\n",
      "                                                     query  \n",
      "630043                                    time in kamloops  \n",
      "630042                                    time in kamloops  \n",
      "630041                                    time in kamloops  \n",
      "630039                                    time in kamloops  \n",
      "630040                                    time in kamloops  \n",
      "...                                                    ...  \n",
      "14002    where in the usa is the agaricus blazei murill...  \n",
      "14001    where in the usa is the agaricus blazei murill...  \n",
      "5092429  where is segal mccambridge singer mahoney ltd ...  \n",
      "14000    where in the usa is the agaricus blazei murill...  \n",
      "2501786              mohammed al amoodi abdul latif jameel  \n",
      "\n",
      "[5681214 rows x 6 columns]\n"
     ]
    }
   ],
   "source": [
    "print(res.sort_values(by='score'))"
   ]
  },
  {
   "cell_type": "code",
   "execution_count": 115,
   "id": "9d8e4656",
   "metadata": {},
   "outputs": [
    {
     "data": {
      "text/html": [
       "<div>\n",
       "<style scoped>\n",
       "    .dataframe tbody tr th:only-of-type {\n",
       "        vertical-align: middle;\n",
       "    }\n",
       "\n",
       "    .dataframe tbody tr th {\n",
       "        vertical-align: top;\n",
       "    }\n",
       "\n",
       "    .dataframe thead th {\n",
       "        text-align: right;\n",
       "    }\n",
       "</style>\n",
       "<table border=\"1\" class=\"dataframe\">\n",
       "  <thead>\n",
       "    <tr style=\"text-align: right;\">\n",
       "      <th></th>\n",
       "      <th>name</th>\n",
       "      <th>map</th>\n",
       "      <th>nDCG@10</th>\n",
       "      <th>ndcg</th>\n",
       "      <th>mrt</th>\n",
       "    </tr>\n",
       "  </thead>\n",
       "  <tbody>\n",
       "    <tr>\n",
       "      <th>0</th>\n",
       "      <td>BR(BM25)</td>\n",
       "      <td>0.335407</td>\n",
       "      <td>0.538802</td>\n",
       "      <td>0.604765</td>\n",
       "      <td>112.082854</td>\n",
       "    </tr>\n",
       "  </tbody>\n",
       "</table>\n",
       "</div>"
      ],
      "text/plain": [
       "       name       map   nDCG@10      ndcg         mrt\n",
       "0  BR(BM25)  0.335407  0.538802  0.604765  112.082854"
      ]
     },
     "execution_count": 115,
     "metadata": {},
     "output_type": "execute_result"
    }
   ],
   "source": [
    "pt.Experiment(\n",
    "    [BM25_br],\n",
    "    topics,\n",
    "    qrels,\n",
    "    eval_metrics=[\"map\", nDCG@10,'mrt','ndcg'],\n",
    "    )"
   ]
  },
  {
   "cell_type": "code",
   "execution_count": 116,
   "id": "b0929cf3",
   "metadata": {
    "scrolled": true
   },
   "outputs": [
    {
     "data": {
      "text/plain": [
       "defaultdict(dict,\n",
       "            {'156493': {'map': 0.7390316099528894,\n",
       "              'nDCG@10': 0.677326101187837},\n",
       "             '1110199': {'map': 0.17178550167029247,\n",
       "              'nDCG@10': 0.26998539222812484},\n",
       "             '1063750': {'map': 0.029627818536490165,\n",
       "              'nDCG@10': 0.18115419260123777},\n",
       "             '130510': {'map': 0.5156064218649112,\n",
       "              'nDCG@10': 0.8857316381822387},\n",
       "             '489204': {'map': 0.040938477378802,\n",
       "              'nDCG@10': 0.18760137034475094},\n",
       "             '573724': {'map': 0.3763646711777269,\n",
       "              'nDCG@10': 0.6927298377998571},\n",
       "             '1133167': {'map': 0.5714597025081728,\n",
       "              'nDCG@10': 0.7196073311817376},\n",
       "             '527433': {'map': 0.20261189166853513,\n",
       "              'nDCG@10': 0.29735787004447234},\n",
       "             '1037798': {'map': 0.011802883314292094,\n",
       "              'nDCG@10': 0.1233781076433543},\n",
       "             '915593': {'map': 0.41131644828748226,\n",
       "              'nDCG@10': 0.2797914894814979},\n",
       "             '264014': {'map': 0.5764147803649584,\n",
       "              'nDCG@10': 0.7920336967679623},\n",
       "             '1121402': {'map': 0.5660931880256596,\n",
       "              'nDCG@10': 0.7943698205944094},\n",
       "             '962179': {'map': 0.5194793666774135,\n",
       "              'nDCG@10': 0.615406227586239},\n",
       "             '1117099': {'map': 0.0589575592244862,\n",
       "              'nDCG@10': 0.7324156839036848},\n",
       "             '148538': {'map': 0.4135994133937746,\n",
       "              'nDCG@10': 0.7654457271723123},\n",
       "             '451602': {'map': 0.03450730630146383,\n",
       "              'nDCG@10': 0.1384552554609424},\n",
       "             '359349': {'map': 0.5141350836980524,\n",
       "              'nDCG@10': 0.8178526806347705},\n",
       "             '1115776': {'map': 0.5047383568812139,\n",
       "              'nDCG@10': 0.6207322146341215},\n",
       "             '1112341': {'map': 0.08781292561169435,\n",
       "              'nDCG@10': 0.149337041010117},\n",
       "             '131843': {'map': 0.4349991393551232,\n",
       "              'nDCG@10': 0.8745676761319968},\n",
       "             '104861': {'map': 0.18096336046104236,\n",
       "              'nDCG@10': 0.24490732092161524},\n",
       "             '833860': {'map': 0.14984151332006201,\n",
       "              'nDCG@10': 0.548116111651132},\n",
       "             '207786': {'map': 0.40804150378302956,\n",
       "              'nDCG@10': 0.788328832401085},\n",
       "             '1132213': {'map': 0.44963916515549335,\n",
       "              'nDCG@10': 0.8805560350630214},\n",
       "             '1114819': {'map': 0.3093188953845056,\n",
       "              'nDCG@10': 0.7573322947273186},\n",
       "             '183378': {'map': 0.32745556020935707,\n",
       "              'nDCG@10': 0.8731869688880143},\n",
       "             '1106007': {'map': 0.020714208739271593,\n",
       "              'nDCG@10': 0.24984484907302484},\n",
       "             '1124210': {'map': 0.9070420628615268,\n",
       "              'nDCG@10': 0.8478338627463428},\n",
       "             '287683': {'map': 0.41111111111111115,\n",
       "              'nDCG@10': 0.5522869369900911},\n",
       "             '490595': {'map': 0.5120157763485519,\n",
       "              'nDCG@10': 0.49524136959964055},\n",
       "             '1103812': {'map': 0.07945304930438318,\n",
       "              'nDCG@10': 0.43092638638907954},\n",
       "             '87181': {'map': 0.23894269095034537,\n",
       "              'nDCG@10': 0.6682991977256888},\n",
       "             '443396': {'map': 0.00610295176101087,\n",
       "              'nDCG@10': 0.04329167055111358},\n",
       "             '87452': {'map': 0.20350933923685804,\n",
       "              'nDCG@10': 0.636924670501405},\n",
       "             '855410': {'map': 1.0, 'nDCG@10': 1.0},\n",
       "             '1114646': {'map': 0.31884276109199905,\n",
       "              'nDCG@10': 0.5340385876206408},\n",
       "             '19335': {'map': 0.27960612068163865,\n",
       "              'nDCG@10': 0.24747623269413294},\n",
       "             '47923': {'map': 0.43857594675681244,\n",
       "              'nDCG@10': 0.29403587382376056},\n",
       "             '405717': {'map': 0.42708884882512654,\n",
       "              'nDCG@10': 0.5868507612300458},\n",
       "             '182539': {'map': 0.38066159764474367,\n",
       "              'nDCG@10': 0.48205061886600525},\n",
       "             '1113437': {'map': 0.20917085593627535,\n",
       "              'nDCG@10': 0.23019825981314965},\n",
       "             '1129237': {'map': 0.18261805891499291,\n",
       "              'nDCG@10': 0.5492340855197286},\n",
       "             '146187': {'map': 0.20049767803785168,\n",
       "              'nDCG@10': 0.6122496142821665}})"
      ]
     },
     "execution_count": 116,
     "metadata": {},
     "output_type": "execute_result"
    }
   ],
   "source": [
    "pt.Utils.evaluate(res, qrels, metrics = [nDCG@10,'map'],perquery=True)"
   ]
  },
  {
   "cell_type": "code",
   "execution_count": 81,
   "id": "2cce1795",
   "metadata": {},
   "outputs": [
    {
     "name": "stdout",
     "output_type": "stream",
     "text": [
      "  qid    docid     docno  rank      score                       query\n",
      "0   1   859408  D3494218     0  39.830542  what is theraderm used for\n",
      "1   1  3067531  D3494217     1  37.038080  what is theraderm used for\n",
      "2   1  1896050  D2536093     2  34.435514  what is theraderm used for\n",
      "3   1  1335934  D3494220     3  32.731794  what is theraderm used for\n",
      "4   1  2844917  D3494221     4  12.810839  what is theraderm used for\n",
      "5   1   226907  D1448579     5  10.056820  what is theraderm used for\n",
      "  qid    docid     docno  rank      score                            query\n",
      "0   1   392325  D3480062     0  42.800585  definition declaratory judgment\n",
      "1   1   937555  D3480067     1  41.392746  definition declaratory judgment\n",
      "2   1  2320429  D3480061     2  39.359881  definition declaratory judgment\n",
      "3   1   422768  D1672849     3  37.536021  definition declaratory judgment\n",
      "4   1  2319283  D1672850     4  37.113972  definition declaratory judgment\n",
      "5   1  1865422  D1161895     5  37.068511  definition declaratory judgment\n",
      "6   1   142557  D3480063     6  36.718077  definition declaratory judgment\n",
      "7   1  2533052  D1161896     7  36.520073  definition declaratory judgment\n",
      "8   1  2108288  D3480065     8  36.285078  definition declaratory judgment\n",
      "9   1   100184  D1708502     9  36.186605  definition declaratory judgment\n",
      "  qid    docid     docno  rank      score                         query\n",
      "0   1  1794228  D3378723     0  32.244889  how long to hold bow in yoga\n",
      "1   1  2358331  D3043609     1  32.105954  how long to hold bow in yoga\n",
      "2   1  3023984  D3378725     2  32.105954  how long to hold bow in yoga\n",
      "3   1  1405958   D970460     3  31.394753  how long to hold bow in yoga\n",
      "4   1  1263219  D2587656     4  31.309238  how long to hold bow in yoga\n",
      "5   1  1674164  D1211050     5  31.108010  how long to hold bow in yoga\n",
      "6   1  1082163  D1826538     6  30.963363  how long to hold bow in yoga\n",
      "7   1  1114708  D1930693     7  30.625135  how long to hold bow in yoga\n",
      "8   1  2736463  D2285733     8  30.136877  how long to hold bow in yoga\n",
      "9   1  2801924   D970461     9  29.974289  how long to hold bow in yoga\n",
      "  qid    docid     docno  rank      score               query\n",
      "0   1   983865  D3533928     0  20.869137  who is robert gray\n",
      "1   1  1897229  D1996104     1  20.765229  who is robert gray\n",
      "2   1   997855  D3533930     2  20.757215  who is robert gray\n",
      "3   1  2337324  D3533929     3  19.419473  who is robert gray\n",
      "4   1  2261850  D1996103     4  19.371911  who is robert gray\n",
      "5   1  2847954  D3504767     5  19.193369  who is robert gray\n",
      "6   1  1571011  D3533931     6  19.014357  who is robert gray\n",
      "7   1  2825216  D2245161     7  18.497162  who is robert gray\n",
      "8   1  2876206   D489713     8  18.480795  who is robert gray\n",
      "9   1  1360512  D1617922     9  18.351559  who is robert gray\n",
      "  qid    docid     docno  rank      score                query\n",
      "0   1   235189  D3431635     0  24.781576  lps laws definition\n",
      "1   1  2092250  D1925226     1  23.906760  lps laws definition\n",
      "2   1    42424  D3272237     2  23.888661  lps laws definition\n",
      "3   1  1181822  D1024943     3  23.888661  lps laws definition\n",
      "4   1  3087650  D1994699     4  23.057127  lps laws definition\n",
      "5   1   990871   D225186     5  22.457452  lps laws definition\n",
      "6   1  1937150   D949868     6  22.326481  lps laws definition\n",
      "7   1  3122136   D686052     7  22.306325  lps laws definition\n",
      "8   1   822944  D1245575     8  21.762499  lps laws definition\n",
      "9   1  1766685  D3205474     9  21.650089  lps laws definition\n"
     ]
    }
   ],
   "source": [
    "print(BM25_br.search(\"what is theraderm used for\")[:10])#855410\n",
    "print(BM25_br.search(\"definition declaratory judgment\")[:10]) #130510\n",
    "print(BM25_br.search(\"how long to hold bow in yoga\")[:10])#1132213\n",
    "\n",
    "print(BM25_br.search(\"who is robert gray\")[:10])#1037798\n",
    "print(BM25_br.search(\"lps laws definition\")[:10])#443396"
   ]
  },
  {
   "cell_type": "code",
   "execution_count": 98,
   "id": "b916fae7",
   "metadata": {},
   "outputs": [
    {
     "data": {
      "text/plain": [
       "{'nDCG@10': 0.5388020905969735, 'map': 0.3354068744746378}"
      ]
     },
     "execution_count": 98,
     "metadata": {},
     "output_type": "execute_result"
    }
   ],
   "source": [
    "pt.io.write_results(res,\"result1.res\")\n",
    "pt.Utils.evaluate(res, qrels, metrics = [nDCG@10,'map'])"
   ]
  },
  {
   "cell_type": "code",
   "execution_count": 96,
   "id": "959f1fcc",
   "metadata": {},
   "outputs": [
    {
     "name": "stdout",
     "output_type": "stream",
     "text": [
      "law\n",
      "find\n",
      "http\n",
      "can\n",
      "order\n",
      "need\n",
      "org\n",
      "question\n",
      "help\n",
      "non\n",
      "know\n",
      "opinion\n",
      "part\n",
      "express\n",
      "type\n",
      "chang\n",
      "share\n",
      "definit\n",
      "ad\n",
      "right\n",
      "sign\n",
      "check\n",
      "act\n",
      "last\n",
      "small\n",
      "back\n",
      "feder\n",
      "debt\n",
      "busi\n",
      "bankruptci\n",
      "page\n",
      "collect\n",
      "name\n",
      "practic\n",
      "simpli\n",
      "term\n",
      "tactic\n",
      "web\n",
      "blog\n",
      "parti\n",
      "declar\n",
      "mistak\n",
      "written\n",
      "releas\n",
      "court\n",
      "motion\n",
      "claim\n",
      "legal\n",
      "default\n",
      "intern\n",
      "file\n",
      "summari\n",
      "topic\n",
      "malaysia\n",
      "code\n",
      "eleven\n",
      "mortgag\n",
      "judgment\n",
      "copi\n",
      "consent\n",
      "collector\n",
      "judgement\n",
      "violat\n",
      "judici\n",
      "statut\n",
      "divorc\n",
      "wipe\n",
      "maiden\n",
      "thelawdictionari\n",
      "foreclosur\n",
      "rem\n",
      "grandpar\n",
      "personam\n",
      "declaratori\n",
      "incumbranc\n",
      "dictionaryoutrop\n",
      "declaratorylink\n"
     ]
    }
   ],
   "source": [
    "doi = index.getDocumentIndex()\n",
    "di = index.getDirectIndex()\n",
    "lex = index.getLexicon()\n",
    "for posting in di.getPostings(doi.getDocumentEntry(937555)):\n",
    "    termid = posting.getId()\n",
    "    lee = lex.getLexiconEntry(termid)\n",
    "    print(lee.getKey())"
   ]
  },
  {
   "cell_type": "code",
   "execution_count": 57,
   "id": "03d5982d",
   "metadata": {},
   "outputs": [
    {
     "name": "stdout",
     "output_type": "stream",
     "text": [
      "19:55:47.097 [main] WARN org.terrier.querying.QueryExpansion - qemodel control not set for QueryExpansion post process. Using default model Bo1\r\n"
     ]
    }
   ],
   "source": [
    "#New one Theo said\n",
    "BM25_br_new = pt.BatchRetrieve(index, wmodel=\"BM25\",controls={\"qe\":\"on\"})\n",
    "res_new = BM25_br_new.transform(topics)"
   ]
  },
  {
   "cell_type": "code",
   "execution_count": 58,
   "id": "fc65cc71",
   "metadata": {},
   "outputs": [
    {
     "data": {
      "text/plain": [
       "{'nDCG@10': 0.5681765252369344, 'map': 0.3849193821948344}"
      ]
     },
     "execution_count": 58,
     "metadata": {},
     "output_type": "execute_result"
    }
   ],
   "source": [
    "pt.Utils.evaluate(res_new, qrels, metrics = [nDCG@10,'map'])"
   ]
  },
  {
   "cell_type": "code",
   "execution_count": 22,
   "id": "f0f76fac",
   "metadata": {
    "scrolled": true
   },
   "outputs": [
    {
     "name": "stdout",
     "output_type": "stream",
     "text": [
      "<-We are here\n",
      "<-Now there\n"
     ]
    },
    {
     "name": "stderr",
     "output_type": "stream",
     "text": [
      "C:\\Users\\alber\\anaconda3\\lib\\site-packages\\lightgbm\\sklearn.py:621: UserWarning: Found 'ndcg_eval_at' in params. Will use it instead of 'eval_at' argument\n",
      "  _log_warning(f\"Found '{alias}' in params. Will use it instead of 'eval_at' argument\")\n",
      "C:\\Users\\alber\\anaconda3\\lib\\site-packages\\lightgbm\\engine.py:177: UserWarning: Found `num_iterations` in params. Will use it instead of argument\n",
      "  _log_warning(f\"Found `{alias}` in params. Will use it instead of argument\")\n"
     ]
    },
    {
     "name": "stdout",
     "output_type": "stream",
     "text": [
      "[LightGBM] [Warning] min_data_in_leaf is set=1, min_child_samples=20 will be ignored. Current value: min_data_in_leaf=1\n",
      "[LightGBM] [Warning] min_sum_hessian_in_leaf is set=100, min_child_weight=0.001 will be ignored. Current value: min_sum_hessian_in_leaf=100\n",
      "[1]\tvalid_0's ndcg@10: 1\tvalid_0's ndcg@25: 1\n",
      "[2]\tvalid_0's ndcg@10: 1\tvalid_0's ndcg@25: 1\n",
      "[3]\tvalid_0's ndcg@10: 1\tvalid_0's ndcg@25: 1\n",
      "[4]\tvalid_0's ndcg@10: 1\tvalid_0's ndcg@25: 1\n",
      "[5]\tvalid_0's ndcg@10: 1\tvalid_0's ndcg@25: 1\n",
      "[6]\tvalid_0's ndcg@10: 1\tvalid_0's ndcg@25: 1\n",
      "[7]\tvalid_0's ndcg@10: 1\tvalid_0's ndcg@25: 1\n",
      "[8]\tvalid_0's ndcg@10: 1\tvalid_0's ndcg@25: 1\n",
      "[9]\tvalid_0's ndcg@10: 1\tvalid_0's ndcg@25: 1\n",
      "[10]\tvalid_0's ndcg@10: 1\tvalid_0's ndcg@25: 1\n"
     ]
    }
   ],
   "source": [
    "pipeline_fetch = pt.BatchRetrieve(index, wmodel=\"BM25\")\n",
    "pipeline_features = pt.FeaturesBatchRetrieve(index,features=[\"WMODEL:Tf\", \"WMODEL:PL2\"])\n",
    "\n",
    "train_qrels_path = \"E:/msmarco-doctrain-top100.txt\"\n",
    "train_qrels = pt.io.read_qrels(train_qrels_path)\n",
    "validation_qrels_path = \"E:/docdev-stopstem.xml_1.out\"\n",
    "validation_qrels = pt.io.read_qrels(validation_qrels_path)\n",
    "\n",
    "import lightgbm as lgb\n",
    "# this configures LightGBM as LambdaMART\n",
    "lmart_l = lgb.LGBMRanker(task=\"train\",\n",
    "    min_data_in_leaf=1,\n",
    "    min_sum_hessian_in_leaf=100,\n",
    "    max_bin=255,\n",
    "    num_leaves=7,\n",
    "    objective=\"lambdarank\",\n",
    "    metric=\"ndcg\",\n",
    "    ndcg_eval_at=[10,25],\n",
    "    learning_rate= .1,\n",
    "    importance_type=\"gain\",\n",
    "    num_iterations=10)\n",
    "print(\"<-We are here\")\n",
    "lmart_l_pipe = (pipeline_fetch%100) >> pipeline_features >> pt.ltr.apply_learned_model(lmart_l, form=\"ltr\")\n",
    "print(\"<-Now there\")\n",
    "lmart_l_pipe.fit(topics, train_qrels, topics, train_qrels)"
   ]
  },
  {
   "cell_type": "code",
   "execution_count": 31,
   "id": "d9429fa5",
   "metadata": {},
   "outputs": [
    {
     "name": "stdout",
     "output_type": "stream",
     "text": [
      "13:39:14.140 [main] WARN org.terrier.applications.batchquerying.TRECQuery - trec.encoding is not set; resorting to platform default (windows-1252). Retrieval may be platform dependent. Recommend trec.encoding=UTF-8\r\n"
     ]
    },
    {
     "ename": "KeyboardInterrupt",
     "evalue": "",
     "output_type": "error",
     "traceback": [
      "\u001b[1;31m---------------------------------------------------------------------------\u001b[0m",
      "\u001b[1;31mKeyboardInterrupt\u001b[0m                         Traceback (most recent call last)",
      "\u001b[1;32m<ipython-input-31-53bcabff2504>\u001b[0m in \u001b[0;36m<module>\u001b[1;34m\u001b[0m\n\u001b[0;32m      3\u001b[0m \u001b[0mtest_topics_path\u001b[0m \u001b[1;33m=\u001b[0m \u001b[1;34m\"E:/topics.msmarco-doc.test.txt\"\u001b[0m\u001b[1;33m\u001b[0m\u001b[1;33m\u001b[0m\u001b[0m\n\u001b[0;32m      4\u001b[0m \u001b[0mtest_topics\u001b[0m \u001b[1;33m=\u001b[0m \u001b[0mpt\u001b[0m\u001b[1;33m.\u001b[0m\u001b[0mio\u001b[0m\u001b[1;33m.\u001b[0m\u001b[0mread_topics\u001b[0m\u001b[1;33m(\u001b[0m\u001b[0mtest_topics_path\u001b[0m\u001b[1;33m,\u001b[0m\u001b[0mformat\u001b[0m\u001b[1;33m=\u001b[0m\u001b[1;34m\"singleline\"\u001b[0m\u001b[1;33m)\u001b[0m\u001b[1;33m\u001b[0m\u001b[1;33m\u001b[0m\u001b[0m\n\u001b[1;32m----> 5\u001b[1;33m pt.Experiment(\n\u001b[0m\u001b[0;32m      6\u001b[0m     \u001b[1;33m[\u001b[0m\u001b[0mlmart_l_pipe\u001b[0m\u001b[1;33m]\u001b[0m\u001b[1;33m,\u001b[0m\u001b[1;33m\u001b[0m\u001b[1;33m\u001b[0m\u001b[0m\n\u001b[0;32m      7\u001b[0m     \u001b[0mtest_topics\u001b[0m\u001b[1;33m,\u001b[0m\u001b[1;33m\u001b[0m\u001b[1;33m\u001b[0m\u001b[0m\n",
      "\u001b[1;32m~\\anaconda3\\lib\\site-packages\\pyterrier\\pipelines.py\u001b[0m in \u001b[0;36mExperiment\u001b[1;34m(retr_systems, topics, qrels, eval_metrics, names, perquery, dataframe, batch_size, filter_by_qrels, filter_by_topics, baseline, test, correction, correction_alpha, highlight, round, verbose, save_dir, save_mode, **kwargs)\u001b[0m\n\u001b[0;32m    448\u001b[0m                 \u001b[0msave_file\u001b[0m \u001b[1;33m=\u001b[0m \u001b[0mos\u001b[0m\u001b[1;33m.\u001b[0m\u001b[0mpath\u001b[0m\u001b[1;33m.\u001b[0m\u001b[0mjoin\u001b[0m\u001b[1;33m(\u001b[0m\u001b[0msave_dir\u001b[0m\u001b[1;33m,\u001b[0m \u001b[1;34m\"%s.res.gz\"\u001b[0m \u001b[1;33m%\u001b[0m \u001b[0mname\u001b[0m\u001b[1;33m)\u001b[0m\u001b[1;33m\u001b[0m\u001b[1;33m\u001b[0m\u001b[0m\n\u001b[0;32m    449\u001b[0m \u001b[1;33m\u001b[0m\u001b[0m\n\u001b[1;32m--> 450\u001b[1;33m             time, evalMeasuresDict = _run_and_evaluate(\n\u001b[0m\u001b[0;32m    451\u001b[0m                 \u001b[0msystem\u001b[0m\u001b[1;33m,\u001b[0m \u001b[0mtopics\u001b[0m\u001b[1;33m,\u001b[0m \u001b[0mqrels\u001b[0m\u001b[1;33m,\u001b[0m \u001b[0meval_metrics\u001b[0m\u001b[1;33m,\u001b[0m\u001b[1;33m\u001b[0m\u001b[1;33m\u001b[0m\u001b[0m\n\u001b[0;32m    452\u001b[0m                 \u001b[0mperquery\u001b[0m\u001b[1;33m=\u001b[0m\u001b[0mperquery\u001b[0m \u001b[1;32mor\u001b[0m \u001b[0mbaseline\u001b[0m \u001b[1;32mis\u001b[0m \u001b[1;32mnot\u001b[0m \u001b[1;32mNone\u001b[0m\u001b[1;33m,\u001b[0m\u001b[1;33m\u001b[0m\u001b[1;33m\u001b[0m\u001b[0m\n",
      "\u001b[1;32m~\\anaconda3\\lib\\site-packages\\pyterrier\\pipelines.py\u001b[0m in \u001b[0;36m_run_and_evaluate\u001b[1;34m(system, topics, qrels, metrics, pbar, save_mode, save_file, perquery, batch_size, backfill_qids)\u001b[0m\n\u001b[0;32m    169\u001b[0m \u001b[1;33m\u001b[0m\u001b[0m\n\u001b[0;32m    170\u001b[0m         \u001b[0mstarttime\u001b[0m \u001b[1;33m=\u001b[0m \u001b[0mtimer\u001b[0m\u001b[1;33m(\u001b[0m\u001b[1;33m)\u001b[0m\u001b[1;33m\u001b[0m\u001b[1;33m\u001b[0m\u001b[0m\n\u001b[1;32m--> 171\u001b[1;33m         \u001b[0mres\u001b[0m \u001b[1;33m=\u001b[0m \u001b[0msystem\u001b[0m\u001b[1;33m.\u001b[0m\u001b[0mtransform\u001b[0m\u001b[1;33m(\u001b[0m\u001b[0mtopics\u001b[0m\u001b[1;33m)\u001b[0m\u001b[1;33m\u001b[0m\u001b[1;33m\u001b[0m\u001b[0m\n\u001b[0m\u001b[0;32m    172\u001b[0m         \u001b[0mendtime\u001b[0m \u001b[1;33m=\u001b[0m \u001b[0mtimer\u001b[0m\u001b[1;33m(\u001b[0m\u001b[1;33m)\u001b[0m\u001b[1;33m\u001b[0m\u001b[1;33m\u001b[0m\u001b[0m\n\u001b[0;32m    173\u001b[0m         \u001b[0mruntime\u001b[0m \u001b[1;33m=\u001b[0m  \u001b[1;33m(\u001b[0m\u001b[0mendtime\u001b[0m \u001b[1;33m-\u001b[0m \u001b[0mstarttime\u001b[0m\u001b[1;33m)\u001b[0m \u001b[1;33m*\u001b[0m \u001b[1;36m1000.\u001b[0m\u001b[1;33m\u001b[0m\u001b[1;33m\u001b[0m\u001b[0m\n",
      "\u001b[1;32m~\\anaconda3\\lib\\site-packages\\pyterrier\\transformer.py\u001b[0m in \u001b[0;36mtransform\u001b[1;34m(self, topics)\u001b[0m\n\u001b[0;32m    877\u001b[0m     \u001b[1;32mdef\u001b[0m \u001b[0mtransform\u001b[0m\u001b[1;33m(\u001b[0m\u001b[0mself\u001b[0m\u001b[1;33m,\u001b[0m \u001b[0mtopics\u001b[0m\u001b[1;33m)\u001b[0m\u001b[1;33m:\u001b[0m\u001b[1;33m\u001b[0m\u001b[1;33m\u001b[0m\u001b[0m\n\u001b[0;32m    878\u001b[0m         \u001b[1;32mfor\u001b[0m \u001b[0mm\u001b[0m \u001b[1;32min\u001b[0m \u001b[0mself\u001b[0m\u001b[1;33m.\u001b[0m\u001b[0mmodels\u001b[0m\u001b[1;33m:\u001b[0m\u001b[1;33m\u001b[0m\u001b[1;33m\u001b[0m\u001b[0m\n\u001b[1;32m--> 879\u001b[1;33m             \u001b[0mtopics\u001b[0m \u001b[1;33m=\u001b[0m \u001b[0mm\u001b[0m\u001b[1;33m.\u001b[0m\u001b[0mtransform\u001b[0m\u001b[1;33m(\u001b[0m\u001b[0mtopics\u001b[0m\u001b[1;33m)\u001b[0m\u001b[1;33m\u001b[0m\u001b[1;33m\u001b[0m\u001b[0m\n\u001b[0m\u001b[0;32m    880\u001b[0m         \u001b[1;32mreturn\u001b[0m \u001b[0mtopics\u001b[0m\u001b[1;33m\u001b[0m\u001b[1;33m\u001b[0m\u001b[0m\n\u001b[0;32m    881\u001b[0m \u001b[1;33m\u001b[0m\u001b[0m\n",
      "\u001b[1;32m~\\anaconda3\\lib\\site-packages\\pyterrier\\transformer.py\u001b[0m in \u001b[0;36mtransform\u001b[1;34m(self, topics)\u001b[0m\n\u001b[0;32m    877\u001b[0m     \u001b[1;32mdef\u001b[0m \u001b[0mtransform\u001b[0m\u001b[1;33m(\u001b[0m\u001b[0mself\u001b[0m\u001b[1;33m,\u001b[0m \u001b[0mtopics\u001b[0m\u001b[1;33m)\u001b[0m\u001b[1;33m:\u001b[0m\u001b[1;33m\u001b[0m\u001b[1;33m\u001b[0m\u001b[0m\n\u001b[0;32m    878\u001b[0m         \u001b[1;32mfor\u001b[0m \u001b[0mm\u001b[0m \u001b[1;32min\u001b[0m \u001b[0mself\u001b[0m\u001b[1;33m.\u001b[0m\u001b[0mmodels\u001b[0m\u001b[1;33m:\u001b[0m\u001b[1;33m\u001b[0m\u001b[1;33m\u001b[0m\u001b[0m\n\u001b[1;32m--> 879\u001b[1;33m             \u001b[0mtopics\u001b[0m \u001b[1;33m=\u001b[0m \u001b[0mm\u001b[0m\u001b[1;33m.\u001b[0m\u001b[0mtransform\u001b[0m\u001b[1;33m(\u001b[0m\u001b[0mtopics\u001b[0m\u001b[1;33m)\u001b[0m\u001b[1;33m\u001b[0m\u001b[1;33m\u001b[0m\u001b[0m\n\u001b[0m\u001b[0;32m    880\u001b[0m         \u001b[1;32mreturn\u001b[0m \u001b[0mtopics\u001b[0m\u001b[1;33m\u001b[0m\u001b[1;33m\u001b[0m\u001b[0m\n\u001b[0;32m    881\u001b[0m \u001b[1;33m\u001b[0m\u001b[0m\n",
      "\u001b[1;32m~\\anaconda3\\lib\\site-packages\\pyterrier\\transformer.py\u001b[0m in \u001b[0;36mtransform\u001b[1;34m(self, topics_and_res)\u001b[0m\n\u001b[0;32m    574\u001b[0m \u001b[1;33m\u001b[0m\u001b[0m\n\u001b[0;32m    575\u001b[0m     \u001b[1;32mdef\u001b[0m \u001b[0mtransform\u001b[0m\u001b[1;33m(\u001b[0m\u001b[0mself\u001b[0m\u001b[1;33m,\u001b[0m \u001b[0mtopics_and_res\u001b[0m\u001b[1;33m)\u001b[0m\u001b[1;33m:\u001b[0m\u001b[1;33m\u001b[0m\u001b[1;33m\u001b[0m\u001b[0m\n\u001b[1;32m--> 576\u001b[1;33m         \u001b[0mres\u001b[0m \u001b[1;33m=\u001b[0m \u001b[0mself\u001b[0m\u001b[1;33m.\u001b[0m\u001b[0mtransformer\u001b[0m\u001b[1;33m.\u001b[0m\u001b[0mtransform\u001b[0m\u001b[1;33m(\u001b[0m\u001b[0mtopics_and_res\u001b[0m\u001b[1;33m)\u001b[0m\u001b[1;33m\u001b[0m\u001b[1;33m\u001b[0m\u001b[0m\n\u001b[0m\u001b[0;32m    577\u001b[0m         \u001b[1;32mif\u001b[0m \u001b[1;32mnot\u001b[0m \u001b[1;34m\"rank\"\u001b[0m \u001b[1;32min\u001b[0m \u001b[0mres\u001b[0m\u001b[1;33m.\u001b[0m\u001b[0mcolumns\u001b[0m\u001b[1;33m:\u001b[0m\u001b[1;33m\u001b[0m\u001b[1;33m\u001b[0m\u001b[0m\n\u001b[0;32m    578\u001b[0m             \u001b[1;32massert\u001b[0m \u001b[1;32mFalse\u001b[0m\u001b[1;33m,\u001b[0m \u001b[1;34m\"require rank to be present in the result set\"\u001b[0m\u001b[1;33m\u001b[0m\u001b[1;33m\u001b[0m\u001b[0m\n",
      "\u001b[1;32m~\\anaconda3\\lib\\site-packages\\pyterrier\\batchretrieve.py\u001b[0m in \u001b[0;36mtransform\u001b[1;34m(self, queries)\u001b[0m\n\u001b[0;32m    423\u001b[0m                 \u001b[0miter\u001b[0m \u001b[1;33m=\u001b[0m \u001b[0mtqdm\u001b[0m\u001b[1;33m(\u001b[0m\u001b[0miter\u001b[0m\u001b[1;33m,\u001b[0m \u001b[0mdesc\u001b[0m\u001b[1;33m=\u001b[0m\u001b[0mstr\u001b[0m\u001b[1;33m(\u001b[0m\u001b[0mself\u001b[0m\u001b[1;33m)\u001b[0m\u001b[1;33m,\u001b[0m \u001b[0mtotal\u001b[0m\u001b[1;33m=\u001b[0m\u001b[0mqueries\u001b[0m\u001b[1;33m.\u001b[0m\u001b[0mshape\u001b[0m\u001b[1;33m[\u001b[0m\u001b[1;36m0\u001b[0m\u001b[1;33m]\u001b[0m\u001b[1;33m,\u001b[0m \u001b[0munit\u001b[0m\u001b[1;33m=\u001b[0m\u001b[1;34m\"q\"\u001b[0m\u001b[1;33m)\u001b[0m\u001b[1;33m\u001b[0m\u001b[1;33m\u001b[0m\u001b[0m\n\u001b[0;32m    424\u001b[0m             \u001b[1;32mfor\u001b[0m \u001b[0mrow\u001b[0m \u001b[1;32min\u001b[0m \u001b[0miter\u001b[0m\u001b[1;33m:\u001b[0m\u001b[1;33m\u001b[0m\u001b[1;33m\u001b[0m\u001b[0m\n\u001b[1;32m--> 425\u001b[1;33m                 \u001b[0mres\u001b[0m \u001b[1;33m=\u001b[0m \u001b[0mself\u001b[0m\u001b[1;33m.\u001b[0m\u001b[0m_retrieve_one\u001b[0m\u001b[1;33m(\u001b[0m\u001b[0mrow\u001b[0m\u001b[1;33m,\u001b[0m \u001b[0minput_results\u001b[0m\u001b[1;33m,\u001b[0m \u001b[0mdocno_provided\u001b[0m\u001b[1;33m=\u001b[0m\u001b[0mdocno_provided\u001b[0m\u001b[1;33m,\u001b[0m \u001b[0mdocid_provided\u001b[0m\u001b[1;33m=\u001b[0m\u001b[0mdocid_provided\u001b[0m\u001b[1;33m,\u001b[0m \u001b[0mscores_provided\u001b[0m\u001b[1;33m=\u001b[0m\u001b[0mscores_provided\u001b[0m\u001b[1;33m)\u001b[0m\u001b[1;33m\u001b[0m\u001b[1;33m\u001b[0m\u001b[0m\n\u001b[0m\u001b[0;32m    426\u001b[0m                 \u001b[0mresults\u001b[0m\u001b[1;33m.\u001b[0m\u001b[0mextend\u001b[0m\u001b[1;33m(\u001b[0m\u001b[0mres\u001b[0m\u001b[1;33m)\u001b[0m\u001b[1;33m\u001b[0m\u001b[1;33m\u001b[0m\u001b[0m\n\u001b[0;32m    427\u001b[0m \u001b[1;33m\u001b[0m\u001b[0m\n",
      "\u001b[1;32m~\\anaconda3\\lib\\site-packages\\pyterrier\\batchretrieve.py\u001b[0m in \u001b[0;36m_retrieve_one\u001b[1;34m(self, row, input_results, docno_provided, docid_provided, scores_provided)\u001b[0m\n\u001b[0;32m    334\u001b[0m \u001b[1;33m\u001b[0m\u001b[0m\n\u001b[0;32m    335\u001b[0m         \u001b[1;31m# now ask Terrier to run the request\u001b[0m\u001b[1;33m\u001b[0m\u001b[1;33m\u001b[0m\u001b[1;33m\u001b[0m\u001b[0m\n\u001b[1;32m--> 336\u001b[1;33m         \u001b[0mself\u001b[0m\u001b[1;33m.\u001b[0m\u001b[0mmanager\u001b[0m\u001b[1;33m.\u001b[0m\u001b[0mrunSearchRequest\u001b[0m\u001b[1;33m(\u001b[0m\u001b[0msrq\u001b[0m\u001b[1;33m)\u001b[0m\u001b[1;33m\u001b[0m\u001b[1;33m\u001b[0m\u001b[0m\n\u001b[0m\u001b[0;32m    337\u001b[0m         \u001b[0mresult\u001b[0m \u001b[1;33m=\u001b[0m \u001b[0msrq\u001b[0m\u001b[1;33m.\u001b[0m\u001b[0mgetResults\u001b[0m\u001b[1;33m(\u001b[0m\u001b[1;33m)\u001b[0m\u001b[1;33m\u001b[0m\u001b[1;33m\u001b[0m\u001b[0m\n\u001b[0;32m    338\u001b[0m \u001b[1;33m\u001b[0m\u001b[0m\n",
      "\u001b[1;31mKeyboardInterrupt\u001b[0m: "
     ]
    }
   ],
   "source": [
    "test_qrels_path = \"E:/msmarco-doctest2019-top100.txt\"\n",
    "test_qrels = pt.io.read_qrels(test_qrels_path)\n",
    "test_topics_path = \"E:/topics.msmarco-doc.test.txt\"\n",
    "test_topics = pt.io.read_topics(test_topics_path,format=\"singleline\")\n",
    "pt.Experiment(\n",
    "    [lmart_l_pipe],\n",
    "    test_topics,\n",
    "    test_qrels,\n",
    "    ['ndcg','map','recip_rank'],\n",
    "    filter_by_topics = False,\n",
    "    filter_by_qrels = False,\n",
    "    names=[\"LambdaMART (LightGBM)\"]\n",
    ")"
   ]
  },
  {
   "cell_type": "code",
   "execution_count": null,
   "id": "d2cb35e1",
   "metadata": {},
   "outputs": [],
   "source": []
  }
 ],
 "metadata": {
  "kernelspec": {
   "display_name": "Python 3",
   "language": "python",
   "name": "python3"
  },
  "language_info": {
   "codemirror_mode": {
    "name": "ipython",
    "version": 3
   },
   "file_extension": ".py",
   "mimetype": "text/x-python",
   "name": "python",
   "nbconvert_exporter": "python",
   "pygments_lexer": "ipython3",
   "version": "3.8.8"
  }
 },
 "nbformat": 4,
 "nbformat_minor": 5
}
