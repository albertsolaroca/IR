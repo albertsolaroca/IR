{
 "cells": [
  {
   "cell_type": "code",
   "execution_count": 1,
   "id": "152c4fa5",
   "metadata": {},
   "outputs": [
    {
     "name": "stderr",
     "output_type": "stream",
     "text": [
      "PyTerrier 0.8.0 has loaded Terrier 5.6 (built by craigmacdonald on 2021-09-17 13:27)\n",
      "\n"
     ]
    }
   ],
   "source": [
    "import pyterrier as pt\n",
    "import pyterrier_doc2query\n",
    "from pyterrier.measures import *\n",
    "if not pt.started():\n",
    "    pt.init(boot_packages=[\"com.github.terrierteam:terrier-prf:-SNAPSHOT\"])"
   ]
  },
  {
   "cell_type": "code",
   "execution_count": 2,
   "id": "b86833d5",
   "metadata": {},
   "outputs": [],
   "source": [
    "#build the index\n",
    "#files=\"C:/Users/Th3o0/Desktop/University/MSC/IN4325 - Information Retrieval - Q3 2022/Project/Datasets/msmarco/input/fulldocs-new.trec\"\n",
    "#indexer=pt.TRECCollectionIndexer(\"C:/Users/Th3o0/Desktop/University/MSC/IN4325 - Information Retrieval - Q3 2022/Project/Datasets/index\",verbose=True,blocks=False)\n",
    "#indexref=indexer.index(files)\n"
   ]
  },
  {
   "cell_type": "code",
   "execution_count": 3,
   "id": "f3407d60",
   "metadata": {},
   "outputs": [
    {
     "name": "stdout",
     "output_type": "stream",
     "text": [
      "Number of documents: 3213835\n",
      "Number of terms: 16168096\n",
      "Number of postings: 905088837\n",
      "Number of fields: 0\n",
      "Number of tokens: 2204592607\n",
      "Field names: []\n",
      "Positions:   false\n",
      "\n"
     ]
    }
   ],
   "source": [
    "#load the index\n",
    "index_path = \"C:/Users/Th3o0/Desktop/University/MSC/IN4325 - Information Retrieval - Q3 2022/Project/Datasets/index\"\n",
    "indexref=pt.IndexRef.of(index_path)\n",
    "index = pt.IndexFactory.of(indexref)\n",
    "print(index.getCollectionStatistics().toString())"
   ]
  },
  {
   "cell_type": "code",
   "execution_count": 4,
   "id": "cd74054d",
   "metadata": {},
   "outputs": [
    {
     "name": "stdout",
     "output_type": "stream",
     "text": [
      "Number of documents: 3213835\n",
      "Number of terms: 29718814\n",
      "Number of postings: 1074683429\n",
      "Number of fields: 1\n",
      "Number of tokens: 2916542609\n",
      "Field names: [text]\n",
      "Positions:   false\n",
      "\n"
     ]
    }
   ],
   "source": [
    "#build new index\n",
    "def iter_file(filename):\n",
    "  import json\n",
    "  with open(filename, 'rt') as file:\n",
    "    for l in file:\n",
    "      # assumes that each line contains 'docno', 'text' attributes\n",
    "      # yields a dictionary for each json line\n",
    "      yield json.loads(l)\n",
    "files_d2q=\"C:/Users/Th3o0/Desktop/University/MSC/IN4325 - Information Retrieval - Q3 2022/Project/Datasets/msmarco/doc2query/input/docs.json\"\n",
    "indexer_d2q=pt.IterDictIndexer(\"C:/Users/Th3o0/Desktop/University/MSC/IN4325 - Information Retrieval - Q3 2022/Project/Datasets/index_d2q\",verbose=True,blocks=False)\n",
    "indexref_d2q=indexer_d2q.index(iter_file(files_d2q))\n",
    "#uncommend below if already built\n",
    "#index_path_d2q = \"C:/Users/Th3o0/Desktop/University/MSC/IN4325 - Information Retrieval - Q3 2022/Project/Datasets/index\"\n",
    "#indexref_d2q=pt.IndexRef.of(index_path_d2q)\n",
    "index_d2q = pt.IndexFactory.of(indexref_d2q)\n",
    "print(index_d2q.getCollectionStatistics().toString())"
   ]
  },
  {
   "cell_type": "code",
   "execution_count": 21,
   "id": "3e307e52",
   "metadata": {},
   "outputs": [
    {
     "name": "stdout",
     "output_type": "stream",
     "text": [
      "23:51:43.242 [main] WARN org.terrier.applications.batchquerying.TRECQuery - trec.encoding is not set; resorting to platform default (windows-1252). Retrieval may be platform dependent. Recommend trec.encoding=UTF-8\r\n"
     ]
    }
   ],
   "source": [
    "#bm25 baseline\n",
    "topics_path = \"C:/Users/Th3o0/Desktop/University/MSC/IN4325 - Information Retrieval - Q3 2022/Project/anserini/tools/topics-and-qrels/topics.msmarco-doc.test.txt\"\n",
    "qrels_path = \"C:/Users/Th3o0/Desktop/University/MSC/IN4325 - Information Retrieval - Q3 2022/Project/anserini/tools/topics-and-qrels/qrels.dl19-doc.txt\"\n",
    "\n",
    "qrels = pt.io.read_qrels(qrels_path)\n",
    "topics = pt.io.read_topics(topics_path,format=\"singleline\")\n",
    "\n",
    "bm25_base = pt.BatchRetrieve(index, wmodel=\"BM25\")\n",
    "#res_base = bm25_base.transform(topics)\n",
    "#pt.Utils.evaluate(res_base, qrels, metrics = ['ndcg',nDCG@10,'map','mrt'])\n"
   ]
  },
  {
   "cell_type": "code",
   "execution_count": 22,
   "id": "67bec0b3",
   "metadata": {
    "scrolled": false
   },
   "outputs": [],
   "source": [
    "#bm25 with query expansion\n",
    "bm25_qe_rm3= bm25_base >> pt.rewrite.RM3(index) >> bm25_base\n",
    "#res_qe = bm25_qe_rm3.transform(topics)\n",
    "#pt.Utils.evaluate(res_qe, qrels, metrics = ['ndcg',nDCG@10,'map'])\n"
   ]
  },
  {
   "cell_type": "code",
   "execution_count": 23,
   "id": "3d2dff7d",
   "metadata": {},
   "outputs": [],
   "source": [
    "bm25_qe_bo1= pt.BatchRetrieve(index,wmodel=\"BM25\",controls={\"qe\":\"on\"})\n",
    "#res_qe = bm25_qe_bo1.transform(topics)\n",
    "#pt.Utils.evaluate(res_qe, qrels, metrics = ['ndcg',nDCG@10,'map'])\n"
   ]
  },
  {
   "cell_type": "code",
   "execution_count": 24,
   "id": "33b1255d",
   "metadata": {},
   "outputs": [],
   "source": [
    "#bm25 with doc2query\n",
    "bm25_d2q=pt.BatchRetrieve(index_d2q,wmodel=\"BM25\")\n",
    "#res_d2q = bm25_d2q.transform(topics)\n",
    "#pt.Utils.evaluate(res_d2q, qrels, metrics = ['ndcg',nDCG@10,'map'])"
   ]
  },
  {
   "cell_type": "code",
   "execution_count": 25,
   "id": "48ee94b1",
   "metadata": {},
   "outputs": [],
   "source": [
    "#bm25 with query expansion + doc2query\n",
    "bm25_qe_rm3_d2q=bm25_d2q >> pt.rewrite.RM3(index_d2q) >> bm25_d2q\n",
    "#res_qe_d2q = bm25_qe_rm3_d2q.transform(topics)\n",
    "#pt.Utils.evaluate(res_qe_d2q, qrels, metrics = ['ndcg',nDCG@10,'map'])"
   ]
  },
  {
   "cell_type": "code",
   "execution_count": 26,
   "id": "998f9032",
   "metadata": {},
   "outputs": [],
   "source": [
    "bm25_qe_bo1_d2q=pt.BatchRetrieve(index_d2q,wmodel=\"BM25\",controls={\"qe\":\"on\"})\n",
    "#res_qe_d2q = bm25_qe_bo1_d2q.transform(topics)\n",
    "#pt.Utils.evaluate(res_qe_d2q, qrels, metrics = ['ndcg',nDCG@10,'map'])"
   ]
  },
  {
   "cell_type": "code",
   "execution_count": null,
   "id": "b6252c5c",
   "metadata": {},
   "outputs": [
    {
     "name": "stdout",
     "output_type": "stream",
     "text": [
      "00:01:56.041 [main] WARN org.terrier.querying.QueryExpansion - qemodel control not set for QueryExpansion post process. Using default model Bo1\r\n"
     ]
    }
   ],
   "source": [
    "#compare results\n",
    "pt.Experiment([bm25_base,bm25_qe_bo1,bm25_qe_rm3,bm25_d2q,bm25_qe_bo1_d2q,bm25_qe_rm3_d2q]\n",
    "             ,topics\n",
    "             ,qrels\n",
    "             ,['ndcg',nDCG@10,'map','mrt']\n",
    "             ,names=['BM25 baseline','BM25-qe(Bo1)','BM25-qe(RM3)','BM25-d2q','BM25-qe(Bo1)+d2q','BM25-qe(RM3)+d2q'])"
   ]
  },
  {
   "cell_type": "code",
   "execution_count": null,
   "id": "f0f76fac",
   "metadata": {},
   "outputs": [],
   "source": []
  },
  {
   "cell_type": "code",
   "execution_count": null,
   "id": "d9429fa5",
   "metadata": {},
   "outputs": [],
   "source": []
  }
 ],
 "metadata": {
  "kernelspec": {
   "display_name": "Python 3",
   "language": "python",
   "name": "python3"
  },
  "language_info": {
   "codemirror_mode": {
    "name": "ipython",
    "version": 3
   },
   "file_extension": ".py",
   "mimetype": "text/x-python",
   "name": "python",
   "nbconvert_exporter": "python",
   "pygments_lexer": "ipython3",
   "version": "3.8.8"
  }
 },
 "nbformat": 4,
 "nbformat_minor": 5
}
